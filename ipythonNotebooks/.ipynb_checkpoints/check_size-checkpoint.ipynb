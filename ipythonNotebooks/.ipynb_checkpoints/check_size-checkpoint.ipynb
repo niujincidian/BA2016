{
 "cells": [
  {
   "cell_type": "code",
   "execution_count": 2,
   "metadata": {
    "collapsed": false
   },
   "outputs": [
    {
     "name": "stdout",
     "output_type": "stream",
     "text": [
      "136236\n"
     ]
    }
   ],
   "source": [
    "import h5py\n",
    "import numpy as np\n",
    "from nideep.datasets.balance_hdf5 import save_balanced_class_count_hdf5 \n",
    "\n",
    "train_data_list = np.loadtxt('/mnt/antares_raid/home/cindy/adhara/experiments/01/twoears_data_test.txt',dtype='string')\n",
    "# print train_data_list.shape\n",
    "set_size = 0\n",
    "for i in range(train_data_list.shape[0]):\n",
    "    temp_file = train_data_list[i] \n",
    "    temp_data =h5py.File(temp_file,'r')\n",
    "    set_size+=temp_data['ratemap'].shape[0]\n",
    "print set_size"
   ]
  },
  {
   "cell_type": "code",
   "execution_count": 7,
   "metadata": {
    "collapsed": false
   },
   "outputs": [
    {
     "name": "stdout",
     "output_type": "stream",
     "text": [
      " 417888\n",
      "label_scalar [u'amsFeatures', u'label', u'label_scalar', u'ratemap']\n",
      "417888\n",
      "test_interval 3264.0\n"
     ]
    }
   ],
   "source": [
    "# train set:\n",
    "fpath = '/mnt/raid/dnn/data/twoears/clean2/bal/twoears_data_train.h5'\n",
    "raw_data = h5py.File(fpath, 'r')\n",
    "set_size = raw_data['ratemap'].shape[0]\n",
    "print raw_data['amsFeatures'].shape[0]\n",
    "print 'label_shape',raw_data['label'].shape[0]\n",
    "# print 'label_scalar', raw_data['label_scalar'][0:50,0,0,0]\n",
    "print set_size\n",
    "print 'test_interval',np.ceil(set_size/128)"
   ]
  },
  {
   "cell_type": "code",
   "execution_count": 5,
   "metadata": {
    "collapsed": false
   },
   "outputs": [
    {
     "name": "stdout",
     "output_type": "stream",
     "text": [
      "136236\n",
      "test_iter 1064.0\n"
     ]
    }
   ],
   "source": [
    "# test set:\n",
    "fpath = '/mnt/raid/dnn/data/twoears/clean2/bal/twoears_data_test.h5'\n",
    "raw_data = h5py.File(fpath, 'r')\n",
    "set_size = raw_data['ratemap'].shape[0]\n",
    "print set_size\n",
    "print 'test_iter',np.ceil(set_size/128)"
   ]
  },
  {
   "cell_type": "code",
   "execution_count": null,
   "metadata": {
    "collapsed": true
   },
   "outputs": [],
   "source": []
  }
 ],
 "metadata": {
  "kernelspec": {
   "display_name": "Python 2",
   "language": "python",
   "name": "python2"
  },
  "language_info": {
   "codemirror_mode": {
    "name": "ipython",
    "version": 2
   },
   "file_extension": ".py",
   "mimetype": "text/x-python",
   "name": "python",
   "nbconvert_exporter": "python",
   "pygments_lexer": "ipython2",
   "version": "2.7.6"
  }
 },
 "nbformat": 4,
 "nbformat_minor": 0
}
