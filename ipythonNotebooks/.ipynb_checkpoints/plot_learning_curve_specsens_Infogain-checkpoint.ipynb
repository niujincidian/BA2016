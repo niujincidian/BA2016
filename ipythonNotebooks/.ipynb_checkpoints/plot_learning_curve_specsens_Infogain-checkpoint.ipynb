{
 "cells": [
  {
   "cell_type": "markdown",
   "metadata": {},
   "source": [
    "## InfogainLoss"
   ]
  },
  {
   "cell_type": "code",
   "execution_count": 2,
   "metadata": {
    "collapsed": false,
    "init_cell": true,
    "scrolled": true
   },
   "outputs": [
    {
     "name": "stdout",
     "output_type": "stream",
     "text": [
      "Done importing\n"
     ]
    }
   ],
   "source": [
    "import os\n",
    "import numpy as np\n",
    "import os.path\n",
    "\n",
    "import matplotlib.pyplot as plt\n",
    "%matplotlib inline\n",
    "from pylab import rcParams\n",
    "rcParams['figure.figsize'] = 16, 6\n",
    "rcParams.update({'font.size': 15})\n",
    "\n",
    "from nideep.eval.learning_curve import LearningCurve\n",
    "from nideep.eval.eval_utils import Phase\n",
    "\n",
    "import nideep.eval.log_utils as lu\n",
    "    # set up Python environment: numpy for numerical routines, and matplotlib for plotting\n",
    "import h5py\n",
    "import caffe\n",
    "import sensSpec\n",
    "from caffe.proto import caffe_pb2\n",
    "from google.protobuf import text_format\n",
    "\n",
    "print(\"Done importing\")"
   ]
  },
  {
   "cell_type": "markdown",
   "metadata": {},
   "source": [
    "### Slicing+Softmax+InfogainLoss"
   ]
  },
  {
   "cell_type": "code",
   "execution_count": 53,
   "metadata": {
    "collapsed": false,
    "scrolled": true
   },
   "outputs": [
    {
     "name": "stdout",
     "output_type": "stream",
     "text": [
      "20 model files\n"
     ]
    }
   ],
   "source": [
    "# this is the test net prototxt\n",
    "model_def = '/mnt/antares_raid/home/cindy/adhara/experiments/19/deploy.prototxt'\n",
    "# this is where your snapshots are stored, the same as the field defined in solver.prototxt\n",
    "# during the sens&spec calculation procedure, it creates cache for these values \n",
    "# default directory for these cache files is the same as these .caffemodel files.\n",
    "# but this can be modified in the code 'save_prefix'\n",
    "snapshot_prefix = '/mnt/raid/dnn/cindy/modelfiles/19/te'\n",
    "soundTypes = ['alarm', 'baby', 'crash', 'dog', 'engine', 'femaleSpeech', 'fire',\n",
    "       'footsteps', 'knock', 'phone', 'piano']\n",
    "it_list,sens_list,spec_list,bal_acclist = sensSpec.getSensSpec(model_def,\n",
    "                                                      soundTypes,\n",
    "                                                      snapshot_prefix,\n",
    "                                                      s_prefix='/mnt/raid/dnn/cindy/modelfiles/19/te',\n",
    "                                                      s_flag=True,\n",
    "                                                      test_size=23567,\n",
    "                                                      batch_size=128,\n",
    "                                                      snapshot=5000,\n",
    "                                                      max_iter=100000)"
   ]
  },
  {
   "cell_type": "markdown",
   "metadata": {},
   "source": [
    "SigmoidCrossEntropy without dropout"
   ]
  },
  {
   "cell_type": "markdown",
   "metadata": {},
   "source": [
    "## plotting"
   ]
  },
  {
   "cell_type": "code",
   "execution_count": null,
   "metadata": {
    "collapsed": true
   },
   "outputs": [],
   "source": [
    "root_path = '/mnt/antares_raid/home/cindy/adhara/experiments/plots/Infogain/'\n",
    "\n",
    "#####################plot#####################\n",
    "K = len(soundTypes)  #get number of class labels\n",
    "for s in range(K):\n",
    "    plt.figure(figsize=(20,6))\n",
    "    plt.suptitle('Infogain '+soundTypes[s],fontsize=24)\n",
    "    \n",
    "    plt.plot(it_list, sens_list[:,s],color='green',label='sens')\n",
    "    plt.plot(it_list_nd, sens_list_nd[:,s],'--',color='green',label='sens-no-dropout')\n",
    "    \n",
    "    plt.plot(it_list, spec_list[:,s], color='red',label='spec')\n",
    "    plt.plot(it_list_nd, spec_list_nd[:,s], '--',color='red',label='spec-no-dropout')\n",
    "    \n",
    "    plt.plot(it_list, bal_acclist[:,s],color='blue',label='bal')\n",
    "    plt.plot(it_list_nd, bal_acclist_nd[:,s], '--',color='blue',label='bal-no-dropout')\n",
    "    \n",
    "    plt.xlabel('iteration')\n",
    "    plt.ylabel('sens-spec')\n",
    "    # format x-axis ticks\n",
    "    ticks, _ = plt.xticks()\n",
    "    \n",
    "    plt.xticks(ticks, [\"%dK\" % int(t/1000) for t in ticks])\n",
    "\n",
    "#     plt.legend(loc=0,prop={'size':15})\n",
    "    plt.legend(bbox_to_anchor=(1.05, 1), loc=2, borderaxespad=0.,prop={'size':18})\n",
    "\n",
    "    ########## TODO ###########\n",
    "    # save the plots under the directory you choose\n",
    "    plt.savefig(root_path+'acc_measures'+str(s+1).zfill(2)+soundTypes[s]+'.png')\n",
    "    \n",
    "    # print the values from last iteration\n",
    "    print 'last iteration acc-measurements for %s'%soundTypes[s]\n",
    "    print '\\t SCE \\t SCE_ndrp '\n",
    "    print 'sens \\t %f \\t %f'%(sens_list_SCE[-1,s],sens_list_SCE_nd[-1,s])\n",
    "    print 'spec \\t %f \\t %f'%(spec_list_SCE[-1,s],spec_list_SCE_nd[-1,s])\n",
    "    print 'bal \\t %f \\t %f'%(bal_acclist_SCE[-1,s],bal_acclist_SCE_nd[-1,s])"
   ]
  }
 ],
 "metadata": {
  "kernelspec": {
   "display_name": "Python 2",
   "language": "python",
   "name": "python2"
  },
  "language_info": {
   "codemirror_mode": {
    "name": "ipython",
    "version": 2
   },
   "file_extension": ".py",
   "mimetype": "text/x-python",
   "name": "python",
   "nbconvert_exporter": "python",
   "pygments_lexer": "ipython2",
   "version": "2.7.6"
  }
 },
 "nbformat": 4,
 "nbformat_minor": 0
}
